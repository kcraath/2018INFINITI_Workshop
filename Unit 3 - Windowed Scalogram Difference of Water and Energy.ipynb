{
 "cells": [
  {
   "cell_type": "markdown",
   "metadata": {},
   "source": [
    "# Windowed Scalogram"
   ]
  },
  {
   "cell_type": "markdown",
   "metadata": {},
   "source": [
    "This is from the new package still being developed called wavScalogram. It is an R package for time series analysis using the Wavelet Scalogram see the github [link](https://github.com/rbensua/wavScalogram) for more details. "
   ]
  },
  {
   "cell_type": "code",
   "execution_count": 14,
   "metadata": {},
   "outputs": [],
   "source": [
    "# R package which includes Quantitative Financial Modelling Frameworks.\n",
    "#https://www.rdocumentation.org/packages/quantmod\n",
    "#install.packages(\"quantmod\")\n",
    "require(quantmod)\n",
    "\n",
    "# An R Package of time series tools and utilities; Rmetrics - Financial Time Series Objects\n",
    "#https://www.rdocumentation.org/packages/timeSeries\n",
    "#install.packages(\"timeSeries\")\n",
    "require(timeSeries)\n",
    "\n",
    "# devtools: Tools to Make Developing R Packages Easier \n",
    "#https://www.rdocumentation.org/packages/devtools\n",
    "#install.packages(\"devtools\")\n",
    "require(devtools) # using devtools to download from github \n",
    "\n",
    "# R package for time series analysis using the Wavelet Scalogram \n",
    "# from https://github.com/rbensua/wavScalogram\n",
    "#install_github(\"rbensua/wavScalogram\")\n",
    "require(wavScalogram)"
   ]
  },
  {
   "cell_type": "code",
   "execution_count": 15,
   "metadata": {},
   "outputs": [
    {
     "data": {
      "text/html": [
       "<ol class=list-inline>\n",
       "\t<li>'CGW'</li>\n",
       "\t<li>'XLE'</li>\n",
       "\t<li>'SPY'</li>\n",
       "</ol>\n"
      ],
      "text/latex": [
       "\\begin{enumerate*}\n",
       "\\item 'CGW'\n",
       "\\item 'XLE'\n",
       "\\item 'SPY'\n",
       "\\end{enumerate*}\n"
      ],
      "text/markdown": [
       "1. 'CGW'\n",
       "2. 'XLE'\n",
       "3. 'SPY'\n",
       "\n",
       "\n"
      ],
      "text/plain": [
       "[1] \"CGW\" \"XLE\" \"SPY\""
      ]
     },
     "metadata": {},
     "output_type": "display_data"
    }
   ],
   "source": [
    "# Identify the tickers of interest\n",
    "tickers <- c(\"CGW\",\"XLE\", \"SPY\")\n",
    "# Download these tickers from Yahoo for the dates in the presentation\n",
    "getSymbols(tickers,src=\"yahoo\", from = \"2007-06-01\",to = \"2018-01-26\")\n",
    "# Merge all the Price series into one dataframe\n",
    "AllPrices <- do.call(merge, lapply(tickers, function(x) get(x)))\n",
    "\n",
    "#Some of these series have (NA) missing values for dates when others \n",
    "# do not have missiong vaulesin the series so we interpolate for these values\n",
    "AllPrices$CGW.Close <- interpNA(AllPrices$CGW.Close)\n",
    "AllPrices$XLE.Close <- interpNA(AllPrices$XLE.Close)\n",
    "AllPrices$SPY.Close <- interpNA(AllPrices$SPY.Close)\n",
    "\n",
    "                                   #Set up the correct data frame\n",
    "rCGW <- as.data.frame((AllPrices$CGW.Close))\n",
    "rXLE <- as.data.frame((AllPrices$XLE.Close))\n",
    "rSPY <- as.data.frame((AllPrices$SPY.Close))\n",
    "\n",
    "#Retrieve specific dates\n",
    "date1 <- index(AllPrices)\n",
    "#save Prices in Matrix\n",
    "rW <- cbind(1:(length(AllPrices$CGW.Close)), rCGW$CGW.Close[1: length(AllPrices$CGW.Close)])\n",
    "rE <- cbind(1:(length(AllPrices$XLE.Close)), rXLE$XLE.Close[1: length(AllPrices$XLE.Close)])\n",
    "rS <- cbind(1:(length(AllPrices$SPY.Close)), rSPY$SPY.Close[1: length(AllPrices$SPY.Close)])"
   ]
  },
  {
   "cell_type": "code",
   "execution_count": null,
   "metadata": {},
   "outputs": [],
   "source": [
    "# Parameters\n",
    "wname <- \"MORLET\"\n",
    "dt <- 1\n",
    "delta_t <- 1\n",
    "nt <- length(rW)/2 # number of time points\n",
    "t <- 1:nt # time vector\n",
    "\n",
    "nrand <- 10  # MonteCarlo repetitions (for significance contours)\n",
    "windowrad <- 64 #floor(nt/60); # % time radius for windowed scalogram (width)\n",
    "rdist <- floor(nt/300); # % Scale radius for distance (height)\n",
    "\n",
    "# Defining the scales (Torrence and Compo's way)\n",
    "s0 <- 2*dt\n",
    "Dj <- 12\n",
    "waverad <- 3 # Morlet wavelet radius\n",
    "smax <- (nt-1-2*windowrad)/(2*waverad)\n",
    "scales <- c(s0, smax, Dj)\n",
    "\n",
    "#Find Help here\n",
    "#?wsd\n",
    "#?wavPlot\n",
    "\n",
    "# This function computes the Windowed Scalogram Difference of two signals. \n",
    "# The definition and details can be found in (Bolós et al. 2017).\n",
    "\n",
    "wsd <- wsd(signal1 = rW[,2], signal2 = rE[,2], scaleparam = scales, delta_t = 1, \n",
    "           windowrad = windowrad, rdist = rdist, mc_nrand = nrand, wname = \"MORLET\", \n",
    "           parallel = TRUE, makefigure = FALSE)\n",
    "\n",
    "\n",
    "wavPlot(Z = -log2(wsd$wsd), X = wsd$t, Y = wsd$scales, Ylog = TRUE, coi = wsd$coi, \n",
    "        rdist = wsd$rdist, sig95 = wsd$signif95, sig05 = wsd$signif05, Xname = \"WSD: Water and Energy Prices\", \n",
    "        Yname =\"Scales (days)\", Zname = \" \")\n",
    "axis(3, at =  c(0,500, 1000, 1500, 2000, 2500),labels=c(\"2007\", \"2009\", \"2011\", \"2013\",\"2015\", \"2017\"))\n",
    "n = length(rW[, 1])\n",
    "abline(v = seq(250, n, 250), h = 1:16, col = \"grey\", lty = 1, lwd = 1)\n"
   ]
  },
  {
   "cell_type": "markdown",
   "metadata": {},
   "source": [
    "# References:\n",
    "\n",
    "C. Torrence, G. P. Compo. A practical guide to wavelet analysis. B. Am. Meteorol. Soc. 79 (1998), 61–78.\n",
    "\n",
    "V. J. Bolós, R. Benítez, R. Ferrer, R. Jammazi. The windowed scalogram difference: a novel wavelet tool for comparing time series. Appl. Math. Comput., 312 (2017), 49-65."
   ]
  }
 ],
 "metadata": {
  "kernelspec": {
   "display_name": "R",
   "language": "R",
   "name": "ir"
  },
  "language_info": {
   "codemirror_mode": "r",
   "file_extension": ".r",
   "mimetype": "text/x-r-source",
   "name": "R",
   "pygments_lexer": "r",
   "version": "3.4.4"
  }
 },
 "nbformat": 4,
 "nbformat_minor": 2
}
