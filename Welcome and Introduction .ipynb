{
 "cells": [
  {
   "cell_type": "markdown",
   "metadata": {},
   "source": [
    "# Welcome and Introduction\n",
    "\n",
    "| Time       | Description          |\n",
    "| ------------- |:-------------:| \n",
    "| 16:30 - 16:50      | [Introduction Presentation](https://github.com/kcraath/2018INFINITI_Workshop/blob/master/Workshop_Presentation_New.pdf) |\n",
    "| 16:50 - 17:00     | Questions      | \n",
    "| 17:00 - 18:00 | Example Code (Unit 1-3)     | \n",
    "\n",
    "[Unit 1 - Example from Presentation](https://github.com/kcraath/2018INFINITI_Workshop/blob/master/Unit%201%20-%20Example%20from%20Presentation.ipynb)\n",
    "\n",
    "[Unit 2 - CWT Power Spectrum and Wavelet Coherence of Water and Energy](https://github.com/kcraath/2018INFINITI_Workshop/blob/master/Unit%202%20-%20CWT%20Power%20Spectrum%20and%20Wavelet%20Coherence%20of%20Water%20and%20Energy.ipynb)\n",
    "\n",
    "[Unit 3 - Windowed Scalogram Difference of Water and Energy](https://github.com/kcraath/2018INFINITI_Workshop/blob/master/Unit%203%20-%20Windowed%20Scalogram%20Difference%20of%20Water%20and%20Energy.ipynb)\n",
    "\n",
    "Who am I: [Kim Raath](https://www.linkedin.com/in/kim-raath-364646a6/)\n",
    "\n",
    "- Originally from South Africa\n",
    "- B.S. in Mathematics (NCAA Div I. Track ad Field Scholarship)\n",
    "- Ph.D. Statistics and M.A. Economics Graduate Student\n",
    "- NSF Graduate Research Fellow \n",
    "- [Center for Computational Finance and Economic Systems](http://www.cofes-rice.org/) (CoFES) Ph.D. Student Affiliate\n",
    "- Co-founder and Head of Financial Engineering at [Topl](https://topl.co/)\n",
    "\n",
    "A tailor-made blockchain technological infrastructure enabling socially-beneficial investments into any region in the world, and in particular into emerging markets.\n",
    "\n",
    "- Contributor to several R packages\n",
    "- I primarily study time-varying applications with focus on spectral analysis\n",
    "\n",
    "## R Background\n",
    "\n",
    "- Follow this [link](https://github.com/kcraath/2018INFINITI_Workshop) for instructions on downloading R and RStudio and the overview or introductory paragraph describing the overall aim of this workshop. \n",
    "\n",
    "## Presentation Focus\n",
    "\n",
    "- Paper I wrote called \"Time-varying wavelet-based applications for evaluating the Water-Energy Nexus\", submitted to Energy Economics Special Issue: Energy Finance Frontiers and Future Development. SSRN [link](https://papers.ssrn.com/sol3/papers.cfm?abstract_id=3123858).\n"
   ]
  }
 ],
 "metadata": {
  "kernelspec": {
   "display_name": "R",
   "language": "R",
   "name": "ir"
  },
  "language_info": {
   "codemirror_mode": "r",
   "file_extension": ".r",
   "mimetype": "text/x-r-source",
   "name": "R",
   "pygments_lexer": "r",
   "version": "3.4.4"
  }
 },
 "nbformat": 4,
 "nbformat_minor": 2
}
