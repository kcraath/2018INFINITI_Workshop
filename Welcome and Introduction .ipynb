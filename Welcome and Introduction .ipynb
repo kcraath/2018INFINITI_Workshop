{
 "cells": [
  {
   "cell_type": "markdown",
   "metadata": {},
   "source": [
    "# Welcome and Introduction\n",
    "\n",
    "| Time       | Description          |\n",
    "| ------------- |:-------------:| \n",
    "| 16:30 - 16:50      | [Introduction Presentation](https://github.com/kcraath/2018INFINITI_Workshop/blob/master/Workshop_Presentation.pdf) |\n",
    "| 16:50 - 17:00     | Questions      | \n",
    "| 17:00 - 18:00 | Example Code (Unit 1-3)     | \n",
    "\n",
    "Who am I: [Kim Raath](https://www.linkedin.com/in/kim-raath-364646a6/)\n",
    "\n",
    "- Originally from South Africa\n",
    "- B.S. in Mathematics (NCAA Div I. Track ad Field Scholarship)\n",
    "- Ph.D. Statistics and M.A. Economics Graduate Student\n",
    "- Co-founder and Head of Financial Engineering at [Topl](https://topl.co/)\n",
    "\n",
    "A tailor-made blockchain technological infrastructure enabling socially-beneficial investments into any region in the world, and in particular into emerging markets.\n",
    "\n",
    "- Contributor to several R packages\n",
    "- I primarily study time-varying applications with focus on spectral analysis\n",
    "\n",
    "## R Background\n",
    "\n",
    "- Follow this [link](https://github.com/kcraath/2018INFINITI_Workshop) and this page will have instructions on downloading R and RStudio and the overview or introductory paragraph ffor the goal of this workshop is also on this page. \n",
    "\n",
    "## Presentation Focus\n",
    "\n",
    "- Paper I wrote called \"Time-varying wavelet-based applications for evaluating the Water-Energy Nexus\", submitted to Energy Economics Special Issue: Energy Finance Frontiers and Future Development. SSRN [link](https://papers.ssrn.com/sol3/papers.cfm?abstract_id=3123858).\n"
   ]
  }
 ],
 "metadata": {
  "kernelspec": {
   "display_name": "R",
   "language": "R",
   "name": "ir"
  },
  "language_info": {
   "codemirror_mode": "r",
   "file_extension": ".r",
   "mimetype": "text/x-r-source",
   "name": "R",
   "pygments_lexer": "r",
   "version": "3.4.4"
  }
 },
 "nbformat": 4,
 "nbformat_minor": 2
}
